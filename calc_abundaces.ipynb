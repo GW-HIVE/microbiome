{
 "cells": [
  {
   "cell_type": "markdown",
   "metadata": {},
   "source": [
    "# Calculating Relative Abundance and Absolute Abundance\n",
    "Author: Lindsay Hopson<br>Date: April 30th 2021<br>Written in: Jupyter Notebook<br>Availability: https://github.com/GW-HIVE/microbiome\n",
    "\n",
    "\n",
    "### Objective \n",
    "\n",
    "The goal of this code is to calculate the relative and absolute abundance of bacteria using the number of 'hits' produced from Hexagon computations. When  the Hexagon output CSV files are downloaded from Hive to a local computer, change the name of each CSV file to match the sample the Hexagon computation was performed on. On the local computer, save all the Hexagon output CSV files in a folder also containing this code. This code does the following tasks: \n",
    "1. Parses through each Hexagon computation output csv file saved \n",
    "2. Calculates the absolute and relative abundance (rounded to the 8th decimal place) of reach organism present in the file \n",
    "3. Writes the absolute and relalative abundance column into the original CSV file saved in the current directory\n",
    "\n",
    "#### Important Note: <br> <p style=\"color:red;\">Before running this code, save a copy of all the original Hexagon output CSV files into a seperate directory on your computer. \n",
    "\n",
    "### Implementation"
   ]
  },
  {
   "cell_type": "code",
   "execution_count": null,
   "metadata": {},
   "outputs": [],
   "source": [
    "import glob \n",
    "import pandas as pd\n",
    "import numpy as np\n",
    "\n",
    "    \n",
    "files = glob.glob('*.csv') "
   ]
  },
  {
   "cell_type": "code",
   "execution_count": 86,
   "metadata": {},
   "outputs": [],
   "source": [
    "for f in files:\n",
    "    \n",
    "    chart_copy = pd.read_csv(f)\n",
    "    chart = pd.read_csv(f)\n",
    "    unaligned_hits = chart['Hits'].iloc[0]\n",
    "    total_hits = float(np.int64(chart['Hits'].iloc[-1]).item())\n",
    "    unaligned_aligned = unaligned_hits + total_hits\n",
    "    \n",
    "    col_list = chart['Hits'].to_list() \n",
    "    abs_abund_list = []\n",
    "    for p in range(len(col_list)-1):\n",
    "        abs_abun = col_list[p]/unaligned_aligned\n",
    "        abs_abund_list.append(abs_abun)\n",
    "    chart = chart.reset_index(drop = True)\n",
    "    chart[\"Absolute Abundance\"] = pd.Series(abs_abund_list)\n",
    "    chart = chart.drop([len(chart['Reference'])-1,len(chart['Reference'])-1])\n",
    "    chart.to_csv(f, index=False)\n",
    "    chart_copy = chart_copy.drop([0,0])\n",
    "    \n",
    "    total_hits_copy = float(np.int64(chart_copy['Hits'].iloc[-1]).item()) \n",
    "    col_list_copy = chart_copy['Hits'].to_list() \n",
    "    rel_abs_list = []\n",
    "    \n",
    "    for x in range(len(col_list_copy)-1):\n",
    "        rel_abs = col_list_copy[x]/total_hits_copy\n",
    "        rel_abs_list.append(rel_abs)\n",
    "    chart_copy = chart_copy.reset_index(drop = True)\n",
    "    chart_copy[\"Relative Abundance\"] = pd.Series(rel_abs_list)\n",
    "\n",
    "    del chart_copy['id']\n",
    "    del chart_copy['Hits']\n",
    "    del chart_copy['Hits Unique']\n",
    "    del chart_copy['Density']\n",
    "    del chart_copy['RPKM']\n",
    "    del chart_copy['Reference']\n",
    "    del chart_copy['Length']\n",
    "\n",
    "    \n",
    "    chart_copy.loc[len(chart_copy)] = 0\n",
    "    chart_copy = chart_copy.shift()\n",
    "    chart_copy.loc[0] = np.nan \n",
    "    \n",
    "    result = pd.concat([chart, chart_copy], axis=1)\n",
    "\n",
    "    result.to_csv(f, index=False)\n",
    "\n",
    "\n",
    "\n",
    "\n",
    "    "
   ]
  },
  {
   "cell_type": "code",
   "execution_count": null,
   "metadata": {},
   "outputs": [],
   "source": [
    "print(\"Complete\")"
   ]
  }
 ],
 "metadata": {
  "kernelspec": {
   "display_name": "Python 2",
   "language": "python",
   "name": "python2"
  },
  "language_info": {
   "codemirror_mode": {
    "name": "ipython",
    "version": 2
   },
   "file_extension": ".py",
   "mimetype": "text/x-python",
   "name": "python",
   "nbconvert_exporter": "python",
   "pygments_lexer": "ipython2",
   "version": "2.7.16"
  }
 },
 "nbformat": 4,
 "nbformat_minor": 2
}
