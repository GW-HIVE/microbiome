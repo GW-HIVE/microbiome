{
 "cells": [
  {
   "cell_type": "markdown",
   "metadata": {},
   "source": [
    "# Calculating Relative and Absolute Abundances\n",
    "Author: Lindsay Hopson and James Ziegler<br>Date: May 7th 2021<br>Written in: Jupyter Notebook<br>Availability: https://github.com/GW-HIVE/microbiome\n",
    "\n",
    "\n",
    "### Objective \n",
    "\n",
    "The goal of this code is to calculate the relative abundances of bacteria using the number of 'hits' produced for Hexagon computations. When  the Hexagon output CSV files are downloaded from Hive to a local computer, change the name of each CSV file to match the sample the Hexagon computation was performed on. On the local computer, save all the Hexagon output CSV files in a folder also containing this code. This code does the following tasks: \n",
    "1. Parses through each Hexagon computation output csv file saved to a local directory \n",
    "2. Calculates the relative and absolute abundances of reach organism present in the file \n",
    "4. Writes the new abundance information into columns within the original CSV file saved in the current directory \n",
    "\n",
    "#### <p style=\"color:red;\">Important Note:  \n",
    "\n",
    "Before running this code, save a copy of all the __original Hexagon output CSV files__ and __this code__ into a new directory on your computer. If you do not do this, other CSV files within the directory where this code is saved will be changed irreversibly.\n",
    "\n",
    "### Implementation"
   ]
  },
  {
   "cell_type": "code",
   "execution_count": null,
   "metadata": {},
   "outputs": [],
   "source": [
    "import pandas as pd\n",
    "import glob"
   ]
  },
  {
   "cell_type": "code",
   "execution_count": null,
   "metadata": {
    "scrolled": true
   },
   "outputs": [],
   "source": [
    "files = glob.glob('*.csv') #parsing through each file in this folder\n",
    "for file in files: #looping through each file identified to a \".csv\" extension\n",
    "    df = pd.read_csv(file) #creating a Pandas dataframe from each CSV file in the loop\n",
    "    if type(df['id'].iloc[-1]) == str: #if the total has been already been calculated, excluding it from sum\n",
    "        x=len(df['id'])-1\n",
    "    else:\n",
    "        x=len(df['id'])\n",
    "    aligned_hits = sum(df['Hits'][1:x]) #number of aligned hits\n",
    "    total_hits = sum(df['Hits'][:x]) #number of aligned hits and unaligned hits\n",
    "    rel_ab = ['NaN'] #creating a relative abundance array with a \"NaN\" first value\n",
    "    abs_ab = [] #creating a absolute abundance array with a \"NaN\" first value\n",
    "    for hit in df['Hits'][1:x]:\n",
    "        rel_ab.append(hit/aligned_hits) #filling the rel abundance list\n",
    "    for hit in df['Hits'][:x]:\n",
    "        abs_ab.append(hit/(total_hits)) #filling the abs abundance list\n",
    "    df.drop(\"Relative Abundance\", inplace=True, axis=1, errors='ignore') #dropping abundance columns if available\n",
    "    df.drop(\"Absolute Abundance\", inplace=True, axis=1, errors='ignore') #''\n",
    "    df.insert(3, \"Relative Abundance\", pd.Series(rel_ab)) #inserting arrays into the original Pandas dataframe\n",
    "    df.insert(4, \"Absolute Abundance\", pd.Series(abs_ab)) #''\n",
    "    df.to_csv(file, index=False) #updating the original CSV\n",
    "    \n",
    "print(\"Calculations complete! Return to the folder where your Hexagon outputs have been saved to view the updated files.\")"
   ]
  }
 ],
 "metadata": {
  "kernelspec": {
   "display_name": "Python 3",
   "language": "python",
   "name": "python3"
  },
  "language_info": {
   "codemirror_mode": {
    "name": "ipython",
    "version": 3
   },
   "file_extension": ".py",
   "mimetype": "text/x-python",
   "name": "python",
   "nbconvert_exporter": "python",
   "pygments_lexer": "ipython3",
   "version": "3.8.5"
  }
 },
 "nbformat": 4,
 "nbformat_minor": 2
}
