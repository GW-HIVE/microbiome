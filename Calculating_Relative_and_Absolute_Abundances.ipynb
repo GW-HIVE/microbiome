{
 "cells": [
  {
   "cell_type": "markdown",
   "metadata": {},
   "source": [
    "# Calculating Relative and Absolute Abundances\n",
    "Author: Lindsay Hopson and James Ziegler<br>Date: April 27th 2021<br>Written in: Jupyter Notebook<br>Availability: https://github.com/GW-HIVE/microbiome\n",
    "\n",
    "\n",
    "### Objective \n",
    "\n",
    "The goal of this code is to calculate the relative abundances of bacteria using the number of 'hits' produced for Hexagon computations. When  the Hexagon output CSV files are downloaded from Hive to a local computer, change the name of each CSV file to match the sample the Hexagon computation was performed on. On the local computer, save all the Hexagon output CSV files in a folder also containing this code. This code does the following tasks: \n",
    "1. Parses through each Hexagon computation output csv file saved to a local directory \n",
    "2. Calculates the relative and absolute abundances of reach organism present in the file \n",
    "4. Writes the new abundance information into columns within the original CSV file saved in the current directory \n",
    "\n",
    "#### <p style=\"color:red;\">Important Note:  \n",
    "\n",
    "Before running this code, save a copy of all the __original Hexagon output CSV files__ and __this code__ into a new directory on your computer. If you do not do this, other CSV files within the directory where this code is saved will be changed irreversibly.\n",
    "\n",
    "### Implementation"
   ]
  },
  {
   "cell_type": "code",
   "execution_count": null,
   "metadata": {
    "scrolled": true
   },
   "outputs": [],
   "source": [
    "import pandas as pd\n",
    "import numpy as np\n",
    "import glob\n",
    "\n",
    "files = glob.glob('*.csv')\n",
    "for file in files:\n",
    "    df = pd.read_csv(file)\n",
    "    aligned_hits = sum(df['Hits'][1:])\n",
    "    total_hits=sum(df['Hits'])\n",
    "    rel_ab = ['NaN']\n",
    "    abs_ab = []\n",
    "    for hit in df['Hits'][1:]:\n",
    "        rel_ab.append(hit/aligned_hits)\n",
    "    for hit in df['Hits']:\n",
    "        abs_ab.append(hit/(total_hits))\n",
    "    df = df.reset_index(drop = True)\n",
    "    df.drop(\"Relative Abundance\", inplace=True, axis=1, errors='ignore')\n",
    "    df.drop(\"Absolute Abundance\", inplace=True, axis=1, errors='ignore')\n",
    "    df.insert(3, \"Relative Abundance\", pd.Series(rel_ab))\n",
    "    df.insert(4, \"Absolute Abundance\", pd.Series(abs_ab))\n",
    "    df.to_csv(file, index=False)\n",
    "    \n",
    "print(\"Calculations complete! Return to the folder where your Hegagon outputs have been saved to view the updated files.\")"
   ]
  }
 ],
 "metadata": {
  "kernelspec": {
   "display_name": "Python 3",
   "language": "python",
   "name": "python3"
  },
  "language_info": {
   "codemirror_mode": {
    "name": "ipython",
    "version": 3
   },
   "file_extension": ".py",
   "mimetype": "text/x-python",
   "name": "python",
   "nbconvert_exporter": "python",
   "pygments_lexer": "ipython3",
   "version": "3.8.5"
  }
 },
 "nbformat": 4,
 "nbformat_minor": 2
}
