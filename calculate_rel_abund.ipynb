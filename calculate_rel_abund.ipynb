{
 "cells": [
  {
   "cell_type": "code",
   "execution_count": 1,
   "metadata": {},
   "outputs": [
    {
     "name": "stdout",
     "output_type": "stream",
     "text": [
      "The code has completed the calculations and updated all csv files! Do not rerun this code on the updated files because it will result in an incorrect Relative Abundance column. For the future, it would be useful if this code could throw an error message to the user if they try to rerun the code on updates csv files.\n"
     ]
    }
   ],
   "source": [
    "# Author: Lindsay Hopson\n",
    "# Title: Calculating Relative Abundance\n",
    "# Date: September 24th 2020\n",
    "# Written in: Jupyter Notebook (Python 2)\n",
    "# Avaialbility: https://github.com/GW-HIVE/microbiome\n",
    "\n",
    "\n",
    "#Summary: This code 1) parses through each Hexagon computation output csv file saved to a local directory, \n",
    "# 2) removes the second row (containing unalignment information),\n",
    "# 3)calculate the relative abundance of reach organism present in the file, and \n",
    "# 4) writes the relalative abundance column into the csv saved on the local directory.\n",
    "# The relative abundances are calculated in decimal form (rounded to the 8th decimal place)\n",
    "\n",
    "\n",
    "import glob #used to iteratively open csv files\n",
    "import pandas as pd\n",
    "import numpy as np #used to convert all numpy int to normal int\n",
    "\n",
    "#opens each csv file saved in the directory\n",
    "files = glob.glob('*-alCount--1.csv')\n",
    "for f in files:\n",
    "    chart = pd.read_csv(f)\n",
    "    chart = chart.drop([0,0])#deletes the first row of data(not the column titles); this\n",
    "  \n",
    "    total_hits = float(np.int64(chart['Hits'].iloc[-1]).item()) #get the total numbe of Hits\n",
    "                                                                #converts int64 type --> int --> float\n",
    "    col_list = chart['Hits'].to_list() #converts Hits column into a list\n",
    "    \n",
    "    # calculates relative abundance\n",
    "    rel_abs_list = []\n",
    "    for p in range(len(col_list)-1):\n",
    "        rel_abs = col_list[p]/total_hits\n",
    "        rel_abs_list.append(rel_abs)\n",
    "    \n",
    "    chart = chart.reset_index(drop = True)#resets DataFram indicies \n",
    "                                          #https://stackoverflow.com/questions/42382263/valueerror-length-of-values-does-not-match-length-of-index-pandas-dataframe-u\n",
    "    chart[\"Relative Abundance\"] = pd.Series(rel_abs_list)#Adds relative abundance calculations into the DataFrame\n",
    "    \n",
    "    chart.to_csv(f, index=False)#Replaces all old info with new update data (whuch include relative abundance info)\n",
    "\n",
    "print(\"The code has completed the calculations and updated all csv files! Do not rerun this code on the updated files because it will result in an incorrect Relative Abundance column. For the future, it would be useful if this code could throw an error message to the user if they try to rerun the code on updates csv files.\")"
   ]
  },
  {
   "cell_type": "code",
   "execution_count": null,
   "metadata": {},
   "outputs": [],
   "source": []
  },
  {
   "cell_type": "code",
   "execution_count": null,
   "metadata": {},
   "outputs": [],
   "source": []
  }
 ],
 "metadata": {
  "kernelspec": {
   "display_name": "Python 2",
   "language": "python",
   "name": "python2"
  },
  "language_info": {
   "codemirror_mode": {
    "name": "ipython",
    "version": 2
   },
   "file_extension": ".py",
   "mimetype": "text/x-python",
   "name": "python",
   "nbconvert_exporter": "python",
   "pygments_lexer": "ipython2",
   "version": "2.7.16"
  }
 },
 "nbformat": 4,
 "nbformat_minor": 2
}
